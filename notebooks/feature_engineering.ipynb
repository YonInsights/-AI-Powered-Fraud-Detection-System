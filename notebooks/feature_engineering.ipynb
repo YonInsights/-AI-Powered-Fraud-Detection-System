{
 "cells": [
  {
   "cell_type": "code",
   "execution_count": 1,
   "metadata": {},
   "outputs": [],
   "source": [
    "import os\n",
    "import sys\n",
    "# Add the scripts folder to the Python path\n",
    "sys.path.append(os.path.abspath(\"../src\"))"
   ]
  },
  {
   "cell_type": "code",
   "execution_count": 2,
   "metadata": {},
   "outputs": [],
   "source": [
    "from feature_engineering import (\n",
    "    create_transaction_features,\n",
    "    create_time_features,\n",
    "    create_categorical_encoding,\n",
    "    normalize_features\n",
    ")"
   ]
  },
  {
   "cell_type": "code",
   "execution_count": 3,
   "metadata": {},
   "outputs": [],
   "source": [
    "#import the utility functions\n",
    "from utils import load_data, save_data"
   ]
  },
  {
   "cell_type": "code",
   "execution_count": 4,
   "metadata": {},
   "outputs": [],
   "source": [
    "# Load the cleaned dataset\n",
    "df = load_data(r\"D:\\Kifya_training\\Week 8\\-AI-Powered-Fraud-Detection-System\\data\\processed\\cleaned_fraud_data.csv\")"
   ]
  },
  {
   "cell_type": "code",
   "execution_count": 5,
   "metadata": {},
   "outputs": [
    {
     "name": "stderr",
     "output_type": "stream",
     "text": [
      "d:\\Kifya_training\\Week 8\\-AI-Powered-Fraud-Detection-System\\src\\feature_engineering.py:24: FutureWarning: A value is trying to be set on a copy of a DataFrame or Series through chained assignment using an inplace method.\n",
      "The behavior will change in pandas 3.0. This inplace method will never work because the intermediate object on which we are setting values always behaves as a copy.\n",
      "\n",
      "For example, when doing 'df[col].method(value, inplace=True)', try using 'df.method({col: value}, inplace=True)' or df[col] = df[col].method(value) instead, to perform the operation inplace on the original object.\n",
      "\n",
      "\n",
      "  df['transaction_count'].fillna(1, inplace=True)\n"
     ]
    }
   ],
   "source": [
    "# Generate new features\n",
    "df = create_transaction_features(df)\n",
    "df = create_time_features(df)\n",
    "df = create_categorical_encoding(df)\n",
    "df = normalize_features(df)"
   ]
  },
  {
   "cell_type": "code",
   "execution_count": 6,
   "metadata": {},
   "outputs": [
    {
     "name": "stdout",
     "output_type": "stream",
     "text": [
      "Feature engineering completed successfully!\n"
     ]
    }
   ],
   "source": [
    "# Save the final processed dataset\n",
    "save_data(df, r\"D:\\Kifya_training\\Week 8\\-AI-Powered-Fraud-Detection-System\\data\\processed\\final_fraud_data.csv\")\n",
    "\n",
    "print(\"Feature engineering completed successfully!\")"
   ]
  }
 ],
 "metadata": {
  "kernelspec": {
   "display_name": "venv",
   "language": "python",
   "name": "python3"
  },
  "language_info": {
   "codemirror_mode": {
    "name": "ipython",
    "version": 3
   },
   "file_extension": ".py",
   "mimetype": "text/x-python",
   "name": "python",
   "nbconvert_exporter": "python",
   "pygments_lexer": "ipython3",
   "version": "3.12.8"
  }
 },
 "nbformat": 4,
 "nbformat_minor": 2
}
